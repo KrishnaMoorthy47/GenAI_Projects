{
 "cells": [
  {
   "cell_type": "code",
   "execution_count": 2,
   "metadata": {},
   "outputs": [],
   "source": [
    "from unstract.llmwhisperer.client import LLMWhispererClient\n",
    "\n",
    "from langchain_openai import AzureChatOpenAI\n",
    "from typing import Dict, List, TypedDict, Any, Optional\n",
    "from pydantic import BaseModel, Field\n",
    "\n",
    "from langchain_core.prompts import ChatPromptTemplate, MessagesPlaceholder\n",
    "\n",
    "from langchain_community.callbacks import get_openai_callback\n",
    "\n",
    "from langchain_core.output_parsers import PydanticOutputParser, JsonOutputParser\n",
    "\n",
    "from langchain.output_parsers import OutputFixingParser"
   ]
  },
  {
   "cell_type": "code",
   "metadata": {},
   "outputs": [],
   "source": "client = LLMWhispererClient(base_url=\"YOUR_BASE_URL\", api_key=\"YOUR_LLM_WHISPERER_API_KEY\")"
  },
  {
   "cell_type": "code",
   "metadata": {},
   "outputs": [],
   "source": " whisper = client.whisper(file_path=r\"PATH_TO_YOUR_PDF_FILE\",processing_mode=\"ocr\" ,output_mode=\"line-printer\",force_text_processing=\"false\",line_splitter_tolerance=\"0.5\") "
  },
  {
   "cell_type": "code",
   "execution_count": 18,
   "metadata": {},
   "outputs": [],
   "source": [
    "raw_text = whisper[\"extracted_text\"]"
   ]
  },
  {
   "cell_type": "code",
   "execution_count": 14,
   "metadata": {},
   "outputs": [],
   "source": [
    "class ProductLineItems(BaseModel):\n",
    "    \"\"\"Information about product line items.\"\"\"\n",
    "    \n",
    "    currency: Optional[str] = Field(..., description=\"Extract the currency of the product for the product line item. The currency should be represented as a string, if no currency is mentioned, return an empty string.\",\n",
    "    )    \n",
    "    quantity: Optional[int] = Field(..., description=\"Extract the quantity of the product for the product line item. Convert alphabetical numbers to numerical values for ease of processing. If not found, return an empty string.\",\n",
    "    )   \n",
    "    unit_price : Optional[float] = Field(..., description= \"Extract the unit price of the product for the product line item. The unit price should be represented as a number, excluding the currency symbol. If not found, return an empty string.\",\n",
    "    )                        \n",
    "    product_description : Optional[str] = Field(..., description= \"Extract the product description for the product line item. The product description should include the product name, product description and attributes (size, colour, material, type, length, Type Designation, MNFG, Dimension, and other product attributes such as Height, Width, Voltage type etc.), include all these, separating them with a comma if there are multiple. If not found, return an empty string.\",\n",
    "    )        \n",
    "    spell_corrected_product_description : Optional[str] = Field(..., description= \"\"\"Correct any spelling errors, common typing errors, abbreviations, and product-specific jargons in the extracted product details. Use the context of the email to determine the correct spelling. This field is to ensure the accuracy and readability of the product details.\"\"\",\n",
    "    )   \n",
    "\n",
    "class Header(BaseModel):\n",
    "    purchase_order: Optional[str] = Field(description=\"Extract the purchase order number from the email. Look for labels such as 'order number' or 'PO number'. If not found, return an empty string.\")\n",
    "    invoice_order: Optional[str] = Field(description=\"Extract the invoice number from the email. Look for labels such as 'invoice number'. If not found, return an empty string.\")\n",
    "    ship_to: Optional[str] = Field(description=\"Extract the 'ship to' address details from the email, which are specified for the customer's location. If 'ship to' is not found, do not default to any other address. Include the name of the location, address, or company, the address lines, city, state, country, zip code, and country code. If not found, return an empty string.\")\n",
    "    bill_to: Optional[str] = Field(description=\"Extract the 'bill to' address details from the email. Prioritize 'bill to' information when present. If these are not found, use the company address, but do not consider the vendor's address. If no 'bill to' section is found, consider any address details found in the salutation following 'Thanks!', 'Best', 'Regards,', 'best regards,' or similar sign-offs as potential 'bill to' addresses. Include the name of the location, address, or company, the address lines, city, state, country, zip code, and country code. If not found, return an empty string.\")\n",
    "    vendor: Optional[str] = Field(description=\"Extract the 'to' or the 'vendor' address details from the email. If the address is not specified as vendor address, exclude it. Include the name of the location, address, or company, the address lines, city, state, country, zip code, and country code.\")\n",
    "    delivery_date: Optional[str] = Field(description=\"Identify and extract the requested delivery date from the email. Look for labels such as 'DATE REQUESTED' and ensure the format is 'mm/dd/yyyy'. Convert relative dates based on the document's date. If not found, return an empty string.\")\n",
    "    invoice_date: Optional[str] = Field(description=\"Identify and extract the date when the order was invoiced from the text. Convert to 'mm/dd/yyyy' format if necessary and look for labels such as 'invoice date', 'order date'. Convert relative dates based on the document's date. If not found, return an empty string.\")\n",
    "    shipping_instructions: Optional[str] = Field(description=\"Identify and extract the shipping instructions from the email. Look for labels such as 'Shipping method', 'Delivery Instructions', 'ROUTING INSTRUCTIONS', or 'Special Instructions'. If not found, return an empty string.\")\n",
    "    notes: Optional[str] = Field(description=\"Identify and extract any comments or notes related to the order from the email. Exclude irrelevant phrases or conversational messages that are not directly related to the order. If not found, return an empty string.\")\n",
    "\n",
    "\n",
    "class Data(BaseModel):\n",
    "    \"\"\"\n",
    "       Extract data about products.\n",
    "       Extract all line item information from the text.\n",
    "       Information includes product details, part number, spell-corrected product description, quantity, unit price, and currency.\n",
    "       The information should be extracted in the order it appears and should include all relevant details for each line item without mixing or omitting information.\n",
    "       Provide the output in JSON format.\n",
    "    \"\"\"\n",
    "\n",
    "    queries: List[ProductLineItems]\n",
    "    headers: List[Header]\n"
   ]
  },
  {
   "cell_type": "code",
   "execution_count": 9,
   "metadata": {},
   "outputs": [],
   "source": [
    "prompt = ChatPromptTemplate.from_messages(\n",
    "    [\n",
    "        (\n",
    "            \"system\",\n",
    "            \"You are an expert extraction algorithm. \"\n",
    "            \"Extract only the following fields for each product line item: \"\n",
    "            \"quantity, unit price, currency, product description, spell corrected product description.\"\n",
    "            \"Extract the headers: purchase_order_number, invoice_number, ship_to, bill_to, vendor address, delivery date, invoice date, shipping instructions, notes.\"\n",
    "            \"There can be multiple headers, if found extract the headers and respective line items.\"\n",
    "            \"If you do not know the value of an attribute asked to extract, \"\n",
    "            \"return null for the attribute's value.,\"\n",
    "            \"Give the output in Json format.\",\n",
    "        ),\n",
    "        (\"human\", \"{text}\"),\n",
    "    ]\n",
    ")"
   ]
  },
  {
   "cell_type": "code",
   "metadata": {},
   "outputs": [],
   "source": "llm = AzureChatOpenAI(\n                azure_endpoint=\"YOUR_AZURE_ENDPOINT\",\n                deployment_name=\"YOUR_DEPLOYMENT_NAME\",\n                api_version=\"YOUR_API_VERSION\",\n                api_key=\"YOUR_AZURE_OPENAI_API_KEY\",\n                temperature=0,\n                max_tokens=4096,\n                frequency_penalty=0,\n                presence_penalty=0,\n                top_p=1.0,\n            )"
  },
  {
   "cell_type": "code",
   "execution_count": 16,
   "metadata": {},
   "outputs": [],
   "source": [
    "text = raw_text"
   ]
  },
  {
   "cell_type": "code",
   "execution_count": 15,
   "metadata": {},
   "outputs": [
    {
     "name": "stdout",
     "output_type": "stream",
     "text": [
      "queries=[ProductLineItems(currency='USD', quantity=1, unit_price=100.0, product_description='Front and rear brake cables', spell_corrected_product_description='Front and rear brake cables'), ProductLineItems(currency='USD', quantity=2, unit_price=15.0, product_description='New set of pedal arms', spell_corrected_product_description='New set of pedal arms'), ProductLineItems(currency='USD', quantity=3, unit_price=5.0, product_description='Labor 3hrs', spell_corrected_product_description='Labor 3hrs')] headers=[Header(purchase_order='US-001', invoice_order=None, ship_to='John Smith, 3787 Pineview Drive, Cambridge, MA 12210', bill_to=None, vendor='John Smith, 2 Court Square, New York, NY 12210', delivery_date=None, invoice_date='11/02/2019', shipping_instructions=None, notes='Payment is due within 15 days. Please make checks payable to: East Repair Inc.')]\n",
      "---\n",
      "\n",
      "Total Tokens: 3277\n",
      "Prompt Tokens: 2673\n",
      "Completion Tokens: 604\n",
      "Total Cost (USD): $0.0127225\n"
     ]
    }
   ],
   "source": [
    "combine_extraction = prompt |  llm  |  OutputFixingParser(parser=PydanticOutputParser(pydantic_object = Data), retry_chain=None).from_llm(parser=PydanticOutputParser(pydantic_object = Data), llm=llm, max_retries=2 )\n",
    "\n",
    "\n",
    "with get_openai_callback() as cb:\n",
    "    res = combine_extraction.invoke({\"text\": text})\n",
    "    print(res)\n",
    "    print(\"---\")\n",
    "print()\n",
    "\n",
    "print(f\"Total Tokens: {cb.total_tokens}\")\n",
    "print(f\"Prompt Tokens: {cb.prompt_tokens}\")\n",
    "print(f\"Completion Tokens: {cb.completion_tokens}\")\n",
    "print(f\"Total Cost (USD): ${cb.total_cost}\")\n"
   ]
  }
 ],
 "metadata": {
  "kernelspec": {
   "display_name": ".venv",
   "language": "python",
   "name": "python3"
  },
  "language_info": {
   "codemirror_mode": {
    "name": "ipython",
    "version": 3
   },
   "file_extension": ".py",
   "mimetype": "text/x-python",
   "name": "python",
   "nbconvert_exporter": "python",
   "pygments_lexer": "ipython3",
   "version": "3.11.9"
  }
 },
 "nbformat": 4,
 "nbformat_minor": 2
}