{
 "cells": [
  {
   "cell_type": "code",
   "execution_count": null,
   "metadata": {},
   "outputs": [],
   "source": [
    "from unstract.llmwhisperer.client import LLMWhispererClient\n",
    "from langchain_openai import AzureChatOpenAI\n",
    "from typing import Dict, List, TypedDict, Any, Optional\n",
    "from pydantic import BaseModel, Field\n",
    "from langchain_core.prompts import ChatPromptTemplate, MessagesPlaceholder\n",
    "from langchain_community.callbacks import get_openai_callback\n",
    "from langchain_core.output_parsers import PydanticOutputParser, JsonOutputParser\n",
    "from langchain.output_parsers import OutputFixingParser"
   ]
  },
  {
   "cell_type": "code",
   "execution_count": null,
   "metadata": {},
   "outputs": [],
   "source": [
    "# Initialize LLM Whisperer client\n",
    "client = LLMWhispererClient(base_url=\"YOUR_BASE_URL\", api_key=\"YOUR_LLM_WHISPERER_API_KEY\")"
   ]
  },
  {
   "cell_type": "code",
   "execution_count": null,
   "metadata": {},
   "outputs": [],
   "source": [
    "# Process PDF document\n",
    "whisper = client.whisper(\n",
    "    file_path=r\"PATH_TO_YOUR_PDF_FILE\",\n",
    "    processing_mode=\"ocr\",\n",
    "    output_mode=\"line-printer\",\n",
    "    force_text_processing=\"false\",\n",
    "    line_splitter_tolerance=\"0.5\"\n",
    ")"
   ]
  },
  {
   "cell_type": "code",
   "execution_count": null,
   "metadata": {},
   "outputs": [],
   "source": [
    "# Extract raw text\n",
    "raw_text = whisper[\"extracted_text\"]\n",
    "print(\"PDF text extracted successfully!\")"
   ]
  },
  {
   "cell_type": "code",
   "execution_count": null,
   "metadata": {},
   "outputs": [],
   "source": [
    "# Define data models for extraction\n",
    "class ProductLineItems(BaseModel):\n",
    "    \"\"\"Information about product line items.\"\"\"\n",
    "    currency: Optional[str] = Field(description=\"Product currency\")\n",
    "    quantity: Optional[int] = Field(description=\"Product quantity\")\n",
    "    unit_price: Optional[float] = Field(description=\"Unit price\")\n",
    "    product_description: Optional[str] = Field(description=\"Product description\")\n",
    "    spell_corrected_product_description: Optional[str] = Field(description=\"Corrected description\")\n",
    "\n",
    "class Header(BaseModel):\n",
    "    purchase_order: Optional[str] = Field(description=\"Purchase order number\")\n",
    "    invoice_order: Optional[str] = Field(description=\"Invoice number\")\n",
    "    ship_to: Optional[str] = Field(description=\"Shipping address\")\n",
    "    bill_to: Optional[str] = Field(description=\"Billing address\")\n",
    "    vendor: Optional[str] = Field(description=\"Vendor information\")\n",
    "\n",
    "class Data(BaseModel):\n",
    "    \"\"\"Complete extraction data model.\"\"\"\n",
    "    queries: List[ProductLineItems]\n",
    "    headers: List[Header]"
   ]
  },
  {
   "cell_type": "code",
   "execution_count": null,
   "metadata": {},
   "outputs": [],
   "source": [
    "# Configure Azure OpenAI\n",
    "llm = AzureChatOpenAI(\n",
    "    azure_endpoint=\"YOUR_AZURE_ENDPOINT\",\n",
    "    deployment_name=\"YOUR_DEPLOYMENT_NAME\",\n",
    "    api_version=\"YOUR_API_VERSION\",\n",
    "    api_key=\"YOUR_AZURE_OPENAI_API_KEY\",\n",
    "    temperature=0,\n",
    "    max_tokens=4096\n",
    ")"
   ]
  },
  {
   "cell_type": "code",
   "execution_count": null,
   "metadata": {},
   "outputs": [],
   "source": [
    "# Create extraction prompt\n",
    "prompt = ChatPromptTemplate.from_messages([\n",
    "    (\"system\", \"You are an expert extraction algorithm. Extract product line items and headers from the document.\"),\n",
    "    (\"human\", \"{text}\")\n",
    "])"
   ]
  },
  {
   "cell_type": "code",
   "execution_count": null,
   "metadata": {},
   "outputs": [],
   "source": [
    "# Example extraction (replace with actual implementation)\n",
    "print(\"PDF Extraction System Ready!\")\n",
    "print(\"Configure your API keys and PDF path to run extraction\")\n",
    "print(\"Sample output structure:\")\n",
    "print(\"- Product line items with quantities, prices, descriptions\")\n",
    "print(\"- Document headers with PO numbers, addresses, vendor info\")\n",
    "print(\"- Token usage tracking and cost analysis\")"
   ]
  }
 ],
 "metadata": {
  "kernelspec": {
   "display_name": "Python 3",
   "language": "python",
   "name": "python3"
  },
  "language_info": {
   "codemirror_mode": {
    "name": "ipython",
    "version": 3
   },
   "file_extension": ".py",
   "mimetype": "text/x-python",
   "name": "python",
   "nbconvert_exporter": "python",
   "pygments_lexer": "ipython3",
   "version": "3.8.5"
  }
 },
 "nbformat": 4,
 "nbformat_minor": 4
}