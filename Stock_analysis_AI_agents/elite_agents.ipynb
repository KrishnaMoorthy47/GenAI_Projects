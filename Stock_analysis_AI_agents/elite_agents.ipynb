{
 "cells": [
  {
   "cell_type": "code",
   "execution_count": null,
   "metadata": {},
   "outputs": [],
   "source": [
    "import pandas as pd\n",
    "import yfinance as yf\n",
    "from datetime import datetime, timedelta\n",
    "from crewai import Agent, Task, Crew, Process\n",
    "from crewai.tools import tool\n",
    "from langchain_groq import ChatGroq\n",
    "from langchain_openai import AzureChatOpenAI\n",
    "import numpy as np\n",
    "import streamlit as st"
   ]
  },
  {
   "cell_type": "code",
   "execution_count": null,
   "metadata": {},
   "outputs": [],
   "source": [
    "# API Configuration\n",
    "openai_api_key = \"YOUR_AZURE_OPENAI_API_KEY\"\n",
    "GROQ_API_KEY = \"YOUR_GROQ_API_KEY\""
   ]
  },
  {
   "cell_type": "code",
   "execution_count": null,
   "metadata": {},
   "outputs": [],
   "source": [
    "# Initialize LLM\n",
    "llm_llama70b = ChatGroq(model_name=\"llama3-70b-8192\", groq_api_key=GROQ_API_KEY)"
   ]
  },
  {
   "cell_type": "code",
   "execution_count": null,
   "metadata": {},
   "outputs": [],
   "source": [
    "# Stock Analysis Tools\n",
    "@tool\n",
    "def get_basic_stock_info(ticker: str) -> pd.DataFrame:\n",
    "    \"\"\"Retrieves basic information about a single stock.\"\"\"\n",
    "    stock = yf.Ticker(ticker)\n",
    "    info = stock.info\n",
    "    \n",
    "    basic_info = pd.DataFrame({\n",
    "        'Name': [info.get('longName', 'N/A')],\n",
    "        'Sector': [info.get('sector', 'N/A')],\n",
    "        'Industry': [info.get('industry', 'N/A')],\n",
    "        'Market Cap': [info.get('marketCap', 'N/A')],\n",
    "        'Current Price': [info.get('currentPrice', 'N/A')]\n",
    "    })\n",
    "    return basic_info"
   ]
  },
  {
   "cell_type": "code",
   "execution_count": null,
   "metadata": {},
   "outputs": [],
   "source": [
    "# Create Stock Analysis Agents\n",
    "stock_researcher = Agent(\n",
    "    llm=AzureChatOpenAI(\n",
    "        model_name=\"gpt-4o\", \n",
    "        api_key=\"YOUR_AZURE_OPENAI_API_KEY\", \n",
    "        api_version=\"2024-10-21\", \n",
    "        azure_endpoint=\"YOUR_AZURE_ENDPOINT\"\n",
    "    ),\n",
    "    role=\"Stock Researcher\",\n",
    "    goal=\"Identify and analyze stock information\",\n",
    "    backstory=\"Expert stock researcher\",\n",
    "    tools=[get_basic_stock_info],\n",
    "    verbose=True\n",
    ")"
   ]
  },
  {
   "cell_type": "code",
   "execution_count": null,
   "metadata": {},
   "outputs": [],
   "source": [
    "# Example Usage\n",
    "# Replace with your actual API keys and run the analysis\n",
    "print(\"Stock Analysis AI Agents Ready!\")\n",
    "print(\"Add your API keys to run live analysis\")"
   ]
  }
 ],
 "metadata": {
  "kernelspec": {
   "display_name": "Python 3",
   "language": "python",
   "name": "python3"
  },
  "language_info": {
   "codemirror_mode": {
    "name": "ipython",
    "version": 3
   },
   "file_extension": ".py",
   "mimetype": "text/x-python",
   "name": "python",
   "nbconvert_exporter": "python",
   "pygments_lexer": "ipython3",
   "version": "3.8.5"
  }
 },
 "nbformat": 4,
 "nbformat_minor": 4
}