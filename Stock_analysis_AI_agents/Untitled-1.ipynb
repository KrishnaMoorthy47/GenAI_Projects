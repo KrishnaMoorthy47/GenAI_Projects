{
 "cells": [
  {
   "cell_type": "code",
   "execution_count": null,
   "metadata": {},
   "outputs": [],
   "source": [
    "# Purchase Order Detection System\n",
    "GROQ_API_KEY = \"YOUR_GROQ_API_KEY\""
   ]
  },
  {
   "cell_type": "code",
   "execution_count": null,
   "metadata": {},
   "outputs": [],
   "source": [
    "from langchain_groq import ChatGroq\n",
    "from crewai import Agent, Task, Crew\n",
    "\n",
    "def detect_purchase_orders(text):\n",
    "    \"\"\"Detect and analyze purchase order numbers in text\"\"\"\n",
    "    try:\n",
    "        llm = ChatGroq(\n",
    "            api_key=GROQ_API_KEY,\n",
    "            model=\"llama3-70b-8192\"\n",
    "        )\n",
    "        \n",
    "        po_detector_agent = Agent(\n",
    "            role='Purchase Order Identification Specialist',\n",
    "            goal='Identify and categorize potential purchase order numbers',\n",
    "            backstory='Expert in analyzing text for purchase order identifiers',\n",
    "            verbose=True\n",
    "        )\n",
    "\n",
    "        detect_task = Task(\n",
    "            description=f'''Analyze the text and identify purchase order numbers: {text}''',\n",
    "            agent=po_detector_agent,\n",
    "            expected_output='Detailed breakdown of purchase order detection'\n",
    "        )\n",
    "\n",
    "        crew = Crew(\n",
    "            agents=[po_detector_agent],\n",
    "            tasks=[detect_task]\n",
    "        )\n",
    "\n",
    "        return crew.kickoff()\n",
    "\n",
    "    except Exception as e:\n",
    "        return f\"Error in detection: {e}\""
   ]
  },
  {
   "cell_type": "code",
   "execution_count": null,
   "metadata": {},
   "outputs": [],
   "source": [
    "# Example usage\n",
    "input_text = \"Order 4000114151 needs processing\"\n",
    "print(f\"Input: {input_text}\")\n",
    "print(\"\\nAdd your GROQ API key to run live detection\")\n",
    "print(\"Expected output: Purchase order analysis and categorization\")"
   ]
  }
 ],
 "metadata": {
  "kernelspec": {
   "display_name": "Python 3",
   "language": "python",
   "name": "python3"
  },
  "language_info": {
   "codemirror_mode": {
    "name": "ipython",
    "version": 3
   },
   "file_extension": ".py",
   "mimetype": "text/x-python",
   "name": "python",
   "nbconvert_exporter": "python",
   "pygments_lexer": "ipython3",
   "version": "3.8.5"
  }
 },
 "nbformat": 4,
 "nbformat_minor": 4
}