{
 "cells": [
  {
   "cell_type": "code",
   "metadata": {},
   "outputs": [],
   "source": "GROQ_API_KEY = \"YOUR_GROQ_API_KEY\""
  },
  {
   "cell_type": "code",
   "execution_count": 1,
   "metadata": {},
   "outputs": [
    {
     "ename": "ModuleNotFoundError",
     "evalue": "No module named 'langchain_groq'",
     "output_type": "error",
     "traceback": [
      "\u001b[1;31m---------------------------------------------------------------------------\u001b[0m",
      "\u001b[1;31mModuleNotFoundError\u001b[0m                       Traceback (most recent call last)",
      "Cell \u001b[1;32mIn[1], line 1\u001b[0m\n\u001b[1;32m----> 1\u001b[0m \u001b[38;5;28;01mfrom\u001b[39;00m\u001b[38;5;250m \u001b[39m\u001b[38;5;21;01mlangchain_groq\u001b[39;00m\u001b[38;5;250m \u001b[39m\u001b[38;5;28;01mimport\u001b[39;00m ChatGroq\n\u001b[0;32m      2\u001b[0m \u001b[38;5;28;01mfrom\u001b[39;00m\u001b[38;5;250m \u001b[39m\u001b[38;5;21;01mcrewai\u001b[39;00m\u001b[38;5;250m \u001b[39m\u001b[38;5;28;01mimport\u001b[39;00m Agent, Task, Crew\n\u001b[0;32m      4\u001b[0m \u001b[38;5;28;01mdef\u001b[39;00m\u001b[38;5;250m \u001b[39m\u001b[38;5;21mdetect_purchase_orders\u001b[39m(text):\n",
      "\u001b[1;31mModuleNotFoundError\u001b[0m: No module named 'langchain_groq'"
     ]
    }
   ],
   "source": [
    "from langchain_groq import ChatGroq\n",
    "from crewai import Agent, Task, Crew\n",
    "\n",
    "def detect_purchase_orders(text):\n",
    "    try:\n",
    "        llm = ChatGroq(\n",
    "            api_key=GROQ_API_KEY,\n",
    "            model=\"claude-3-5-sonnet-20240620\"\n",
    "        )\n",
    "        po_detector_agent = Agent(\n",
    "            role='Purchase Order Identification Specialist',\n",
    "            goal='Identify and categorize potential purchase order numbers in a given text',\n",
    "            backstory='An expert in analyzing text to extract and validate potential purchase order identifiers',\n",
    "            verbose=True\n",
    "        )\n",
    "\n",
    "        detect_task = Task(\n",
    "            description=f'''\n",
    "            Carefully analyze the following text and provide a comprehensive assessment:\n",
    "            \n",
    "            1. Identify any potential purchase order numbers or identifiers\n",
    "            2. Determine the number of unique purchase order identifiers\n",
    "            3. Provide reasoning for your identification\n",
    "            4. Be precise and thorough in your analysis\n",
    "            \n",
    "            Input Text: {text}\n",
    "            ''',\n",
    "            agent=po_detector_agent,\n",
    "            expected_output='A detailed breakdown of purchase order number detection'\n",
    "        )\n",
    "\n",
    "        crew = Crew(\n",
    "            agents=[po_detector_agent],\n",
    "            tasks=[detect_task]\n",
    "        )\n",
    "\n",
    "        analysis = crew.kickoff()\n",
    "\n",
    "        def process_detection_result():\n",
    "            if not analysis or 'no purchase order' in analysis.lower():\n",
    "                return {\n",
    "                    'status': 'NO_PO',\n",
    "                    'purchase_order_numbers': None,\n",
    "                    'count': 0\n",
    "                }\n",
    "            \n",
    "            potential_pos = [\n",
    "                item.strip() for item in analysis.split() \n",
    "                if item.strip()  \n",
    "            ]\n",
    "            \n",
    "            unique_pos = list(dict.fromkeys(potential_pos))\n",
    "            \n",
    "            if len(unique_pos) == 1:\n",
    "                return {\n",
    "                    'status': 'SINGLE_PO',\n",
    "                    'purchase_order_numbers': unique_pos,\n",
    "                    'count': 1\n",
    "                }\n",
    "            elif len(unique_pos) > 1:\n",
    "                return {\n",
    "                    'status': 'MULTIPLE_POS',\n",
    "                    'purchase_order_numbers': unique_pos,\n",
    "                    'count': len(unique_pos)\n",
    "                }\n",
    "            \n",
    "            return {\n",
    "                'status': 'NO_PO',\n",
    "                'purchase_order_numbers': None,\n",
    "                'count': 0\n",
    "            }\n",
    "\n",
    "        return process_detection_result()\n",
    "\n",
    "    except Exception as e:\n",
    "        print(f\"Error in purchase order detection: {e}\")\n",
    "        return {\n",
    "            'status': 'ERROR',\n",
    "            'purchase_order_numbers': None,\n",
    "            'count': 0,\n",
    "            'error_message': str(e)\n",
    "        }"
   ]
  },
  {
   "cell_type": "code",
   "execution_count": null,
   "metadata": {},
   "outputs": [],
   "source": [
    "input_text = \"Order 4000114151 needs processing\"\n",
    "result = detect_purchase_orders(input_text)\n",
    "print(\"Input:\", input_text)\n",
    "print(\"Detection Result:\", result)"
   ]
  }
 ],
 "metadata": {
  "kernelspec": {
   "display_name": ".venv",
   "language": "python",
   "name": "python3"
  },
  "language_info": {
   "codemirror_mode": {
    "name": "ipython",
    "version": 3
   },
   "file_extension": ".py",
   "mimetype": "text/x-python",
   "name": "python",
   "nbconvert_exporter": "python",
   "pygments_lexer": "ipython3",
   "version": "3.11.9"
  }
 },
 "nbformat": 4,
 "nbformat_minor": 2
}